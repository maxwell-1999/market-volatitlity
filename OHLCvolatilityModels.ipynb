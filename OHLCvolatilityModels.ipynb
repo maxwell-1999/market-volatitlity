{
 "cells": [
  {
   "cell_type": "code",
   "execution_count": null,
   "id": "ae3738e0",
   "metadata": {},
   "outputs": [],
   "source": [
    "import csv\n",
    "import math\n",
    "def rawSD(close_prices):\n",
    "    mean = sum(close_prices) / len(close_prices)\n",
    "    diff = [(close_prices[i] - mean) ** 2 for i in range(len(close_prices))]\n",
    "    varience = sum(diff) / (len(close_prices))\n",
    "    sd = math.sqrt(varience)\n",
    "    return sd\n"
   ]
  },
  {
   "cell_type": "code",
   "execution_count": 84,
   "id": "4871a9e3",
   "metadata": {},
   "outputs": [
    {
     "name": "stdout",
     "output_type": "stream",
     "text": [
      "parkinson_volatility: 0.01728304559885097\n",
      "garman_klass: 0.03396928577908559\n",
      "yang_zhang: 0.14496684530571033\n"
     ]
    }
   ],
   "source": [
    "with open('BTC-USD.csv',mode = 'r') as file:\n",
    "    btc_usd = csv.DictReader(file)\n",
    "\n",
    "#     PARKINSON\n",
    "    arr = [i for i in btc_usd]    \n",
    "    arr = arr[0:-2]\n",
    "    h2l = [math.log(float(arr[i]['High'])/float(arr[i]['Low']))**2 for i in range(len(arr))]\n",
    "#    last *len(h2l) is doubted in varience, it is not present in sheet https://docs.google.com/spreadsheets/d/1lQTz1Fad2TIi42-jBjwd-42UWKsIuSP1/edit#gid=1351734694\n",
    "    parkinson_varience = (sum(h2l)/len(h2l))/4*math.log(2)\n",
    "    parkinson_volatility = math.sqrt(parkinson_varience)\n",
    "    print('parkinson_volatility:',parkinson_volatility)\n",
    "    \n",
    "#     KLASS\n",
    "    c2o = [math.log(float(arr[i]['Close'])/float(arr[i]['Open']))**2 for i in range(len(arr))]\n",
    "    gk_varience = [h2l[i]*0.5 + c2o[i]*(2*math.log(2) - 1) for i in range(len(c2o))]\n",
    "    garman_klass = math.sqrt(sum(gk_varience)/len(gk_varience))\n",
    "    print('garman_klass:',garman_klass)\n",
    "    \n",
    "    \n",
    "#     Yang Zhang\n",
    "    o = [float(arr[i]['Open'])/float(arr[i-1]['Close']) for i in  range(1, len(arr))]\n",
    "    next_open_sd = rawSD(o)\n",
    "    c2o_sd = rawSD(c2o)\n",
    "    n = len(arr)-1\n",
    "    k = 0.34/(1.34+((n+1)/(n-1)))\n",
    "    u = [math.log(float(arr[i]['High'])/float(arr[i]['Open']))**2 for i in range(len(arr))]\n",
    "    d = [math.log(float(arr[i]['Low'])/float(arr[i]['Open']))**2 for i in range(len(arr))]\n",
    "    rs_arr = [u[i]*(u[i] - c2o[i]) + d[i]*(d[i] - c2o[i]) for i in range(len(u))]\n",
    "    rs = math.sqrt(sum(rs_arr)/(n+1))\n",
    "    yang_zhang = math.sqrt(next_open_sd**2 + k**2 + (1-k)*(rs**2))\n",
    "    print('yang_zhang:',yang_zhang)\n",
    "    \n"
   ]
  }
 ],
 "metadata": {
  "kernelspec": {
   "display_name": "Python 3 (ipykernel)",
   "language": "python",
   "name": "python3"
  },
  "language_info": {
   "codemirror_mode": {
    "name": "ipython",
    "version": 3
   },
   "file_extension": ".py",
   "mimetype": "text/x-python",
   "name": "python",
   "nbconvert_exporter": "python",
   "pygments_lexer": "ipython3",
   "version": "3.10.6"
  }
 },
 "nbformat": 4,
 "nbformat_minor": 5
}
