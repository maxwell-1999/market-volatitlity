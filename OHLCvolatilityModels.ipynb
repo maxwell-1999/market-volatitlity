{
 "cells": [
  {
   "cell_type": "code",
   "execution_count": 2,
   "id": "ae3738e0",
   "metadata": {},
   "outputs": [],
   "source": [
    "import csv\n",
    "import math\n",
    "def rawSD(close_prices):\n",
    "    mean = sum(close_prices) / len(close_prices)\n",
    "    diff = [(close_prices[i] - mean) ** 2 for i in range(len(close_prices))]\n",
    "    varience = sum(diff) / (len(close_prices))\n",
    "    sd = math.sqrt(varience)\n",
    "    return sd\n"
   ]
  },
  {
   "cell_type": "code",
   "execution_count": 22,
   "id": "4871a9e3",
   "metadata": {},
   "outputs": [
    {
     "name": "stdout",
     "output_type": "stream",
     "text": [
      "parkinson_volatility: 0.024957729006955587\n",
      "garman_klass: 0.03400502797933275\n",
      "yang_zhang: 0.024163843616084223\n"
     ]
    }
   ],
   "source": [
    "with open('BTC-USD.csv',mode = 'r') as file:\n",
    "    btc_usd = csv.DictReader(file)\n",
    "\n",
    "#     PARKINSON\n",
    "    arr = [i for i in btc_usd]    \n",
    "    arr = arr[0:-3]\n",
    "    log_high_by_low_sq = [math.log(float(arr[i]['High'])/float(arr[i]['Low']))**2 for i in range(len(arr))]\n",
    "#    last *len(h2l) is doubted in varience, it is not present in sheet https://docs.google.com/spreadsheets/d/1lQTz1Fad2TIi42-jBjwd-42UWKsIuSP1/edit#gid=1351734694\n",
    "    parkinson_varience = (sum(log_high_by_low_sq)/len(log_high_by_low_sq))/(4*math.log(2))\n",
    "    #bug /4*math.log(2) => /(4*math.log(2))\n",
    "    parkinson_volatility = math.sqrt(parkinson_varience)\n",
    "    print('parkinson_volatility:',parkinson_volatility)\n",
    "    \n",
    "#     KLASS\n",
    "    log_close_by_open = [math.log(float(arr[i]['Close'])/float(arr[i]['Open'])) for i in range(len(arr))]\n",
    "    gk_varience = [log_high_by_low_sq[i]*0.5 + (log_close_by_open[i]**2)*(2*math.log(2) - 1) for i in range(len(log_close_by_open))]\n",
    "    garman_klass = math.sqrt(sum(gk_varience)/len(gk_varience))\n",
    "    print('garman_klass:',garman_klass)\n",
    "    \n",
    "    \n",
    "#     Yang Zhang\n",
    "    #bug o/c => ln(o/c)\n",
    "    o = [math.log(float(arr[i]['Open'])/float(arr[i-1]['Close'])) for i in  range(1, len(arr))]\n",
    "    next_open_sd = rawSD(o)\n",
    "    log_close_by_open_sd = rawSD(log_close_by_open)\n",
    "    n = len(arr)-1\n",
    "    k = 0.34/(1.34+((n+1)/(n-1)))\n",
    "    #bug math.log(float(arr[i]['High'])/float(arr[i]['Open']))**2 => math.log(float(arr[i]['High'])/float(arr[i]['Open']))\n",
    "    \n",
    "    u = [math.log(float(arr[i]['High'])/float(arr[i]['Open'])) for i in range(len(arr))]\n",
    "    d = [math.log(float(arr[i]['Low'])/float(arr[i]['Open'])) for i in range(len(arr))]\n",
    "    rs_arr = [u[i]*(u[i] - log_close_by_open[i]) + d[i]*(d[i] - log_close_by_open[i]) for i in range(len(u))]\n",
    "    rs = math.sqrt(sum(rs_arr)/(n+1))\n",
    "    yang_zhang = math.sqrt(next_open_sd**2 + k*log_close_by_open_sd**2 + (1-k)*(rs**2))\n",
    "    print('yang_zhang:',yang_zhang)\n",
    "    \n"
   ]
  },
  {
   "cell_type": "code",
   "execution_count": 12,
   "id": "5924e6a2",
   "metadata": {},
   "outputs": [
    {
     "ename": "ValueError",
     "evalue": "I/O operation on closed file.",
     "output_type": "error",
     "traceback": [
      "\u001b[0;31m---------------------------------------------------------------------------\u001b[0m",
      "\u001b[0;31mValueError\u001b[0m                                Traceback (most recent call last)",
      "Input \u001b[0;32mIn [12]\u001b[0m, in \u001b[0;36m<cell line: 1>\u001b[0;34m()\u001b[0m\n\u001b[0;32m----> 1\u001b[0m \u001b[38;5;28;01mfor\u001b[39;00m lines \u001b[38;5;129;01min\u001b[39;00m btc_usd:\n\u001b[1;32m      2\u001b[0m         \u001b[38;5;28mprint\u001b[39m(lines)\n",
      "File \u001b[0;32m/usr/lib/python3.10/csv.py:111\u001b[0m, in \u001b[0;36mDictReader.__next__\u001b[0;34m(self)\u001b[0m\n\u001b[1;32m    108\u001b[0m \u001b[38;5;28;01mif\u001b[39;00m \u001b[38;5;28mself\u001b[39m\u001b[38;5;241m.\u001b[39mline_num \u001b[38;5;241m==\u001b[39m \u001b[38;5;241m0\u001b[39m:\n\u001b[1;32m    109\u001b[0m     \u001b[38;5;66;03m# Used only for its side effect.\u001b[39;00m\n\u001b[1;32m    110\u001b[0m     \u001b[38;5;28mself\u001b[39m\u001b[38;5;241m.\u001b[39mfieldnames\n\u001b[0;32m--> 111\u001b[0m row \u001b[38;5;241m=\u001b[39m \u001b[38;5;28;43mnext\u001b[39;49m\u001b[43m(\u001b[49m\u001b[38;5;28;43mself\u001b[39;49m\u001b[38;5;241;43m.\u001b[39;49m\u001b[43mreader\u001b[49m\u001b[43m)\u001b[49m\n\u001b[1;32m    112\u001b[0m \u001b[38;5;28mself\u001b[39m\u001b[38;5;241m.\u001b[39mline_num \u001b[38;5;241m=\u001b[39m \u001b[38;5;28mself\u001b[39m\u001b[38;5;241m.\u001b[39mreader\u001b[38;5;241m.\u001b[39mline_num\n\u001b[1;32m    114\u001b[0m \u001b[38;5;66;03m# unlike the basic reader, we prefer not to return blanks,\u001b[39;00m\n\u001b[1;32m    115\u001b[0m \u001b[38;5;66;03m# because we will typically wind up with a dict full of None\u001b[39;00m\n\u001b[1;32m    116\u001b[0m \u001b[38;5;66;03m# values\u001b[39;00m\n",
      "\u001b[0;31mValueError\u001b[0m: I/O operation on closed file."
     ]
    }
   ],
   "source": []
  }
 ],
 "metadata": {
  "kernelspec": {
   "display_name": "Python 3 (ipykernel)",
   "language": "python",
   "name": "python3"
  },
  "language_info": {
   "codemirror_mode": {
    "name": "ipython",
    "version": 3
   },
   "file_extension": ".py",
   "mimetype": "text/x-python",
   "name": "python",
   "nbconvert_exporter": "python",
   "pygments_lexer": "ipython3",
   "version": "3.10.6"
  }
 },
 "nbformat": 4,
 "nbformat_minor": 5
}
